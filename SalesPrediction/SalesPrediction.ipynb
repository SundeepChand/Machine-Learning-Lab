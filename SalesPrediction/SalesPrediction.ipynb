{
 "cells": [
  {
   "cell_type": "markdown",
   "id": "3b6c7bda",
   "metadata": {},
   "source": [
    "# Sales Prediction (using Regression techniques)"
   ]
  },
  {
   "cell_type": "markdown",
   "id": "42e2831f",
   "metadata": {},
   "source": [
    "### Problem Statement\n",
    "Build a model which predicts sales based on the money spent on different platforms for marketing.\n",
    "\n",
    "Given the advertising dataset, find a suitable model that accurately predicts the sales data, from the given advertising expenditures."
   ]
  },
  {
   "cell_type": "code",
   "execution_count": 2,
   "id": "887ae1fb",
   "metadata": {},
   "outputs": [],
   "source": [
    "import numpy as np\n",
    "import pandas as pd\n",
    "import matplotlib.pyplot as plt\n",
    "import seaborn as sns"
   ]
  },
  {
   "cell_type": "code",
   "execution_count": 4,
   "id": "e69f8ccf",
   "metadata": {},
   "outputs": [
    {
     "data": {
      "text/html": [
       "<div>\n",
       "<style scoped>\n",
       "    .dataframe tbody tr th:only-of-type {\n",
       "        vertical-align: middle;\n",
       "    }\n",
       "\n",
       "    .dataframe tbody tr th {\n",
       "        vertical-align: top;\n",
       "    }\n",
       "\n",
       "    .dataframe thead th {\n",
       "        text-align: right;\n",
       "    }\n",
       "</style>\n",
       "<table border=\"1\" class=\"dataframe\">\n",
       "  <thead>\n",
       "    <tr style=\"text-align: right;\">\n",
       "      <th></th>\n",
       "      <th>TV</th>\n",
       "      <th>Radio</th>\n",
       "      <th>Newspaper</th>\n",
       "      <th>Sales</th>\n",
       "    </tr>\n",
       "  </thead>\n",
       "  <tbody>\n",
       "    <tr>\n",
       "      <th>0</th>\n",
       "      <td>230.1</td>\n",
       "      <td>37.8</td>\n",
       "      <td>69.2</td>\n",
       "      <td>22.1</td>\n",
       "    </tr>\n",
       "    <tr>\n",
       "      <th>1</th>\n",
       "      <td>44.5</td>\n",
       "      <td>39.3</td>\n",
       "      <td>45.1</td>\n",
       "      <td>10.4</td>\n",
       "    </tr>\n",
       "    <tr>\n",
       "      <th>2</th>\n",
       "      <td>17.2</td>\n",
       "      <td>45.9</td>\n",
       "      <td>69.3</td>\n",
       "      <td>12.0</td>\n",
       "    </tr>\n",
       "    <tr>\n",
       "      <th>3</th>\n",
       "      <td>151.5</td>\n",
       "      <td>41.3</td>\n",
       "      <td>58.5</td>\n",
       "      <td>16.5</td>\n",
       "    </tr>\n",
       "    <tr>\n",
       "      <th>4</th>\n",
       "      <td>180.8</td>\n",
       "      <td>10.8</td>\n",
       "      <td>58.4</td>\n",
       "      <td>17.9</td>\n",
       "    </tr>\n",
       "  </tbody>\n",
       "</table>\n",
       "</div>"
      ],
      "text/plain": [
       "      TV  Radio  Newspaper  Sales\n",
       "0  230.1   37.8       69.2   22.1\n",
       "1   44.5   39.3       45.1   10.4\n",
       "2   17.2   45.9       69.3   12.0\n",
       "3  151.5   41.3       58.5   16.5\n",
       "4  180.8   10.8       58.4   17.9"
      ]
     },
     "execution_count": 4,
     "metadata": {},
     "output_type": "execute_result"
    }
   ],
   "source": [
    "# Import the dataset\n",
    "dataset = pd.read_csv('./dataset/advertising.csv')\n",
    "dataset.head()"
   ]
  },
  {
   "cell_type": "markdown",
   "id": "1e5e4479",
   "metadata": {},
   "source": [
    "## Data inspection"
   ]
  },
  {
   "cell_type": "code",
   "execution_count": 6,
   "id": "ada4d09a",
   "metadata": {},
   "outputs": [
    {
     "name": "stdout",
     "output_type": "stream",
     "text": [
      "<class 'pandas.core.frame.DataFrame'>\n",
      "RangeIndex: 200 entries, 0 to 199\n",
      "Data columns (total 4 columns):\n",
      " #   Column     Non-Null Count  Dtype  \n",
      "---  ------     --------------  -----  \n",
      " 0   TV         200 non-null    float64\n",
      " 1   Radio      200 non-null    float64\n",
      " 2   Newspaper  200 non-null    float64\n",
      " 3   Sales      200 non-null    float64\n",
      "dtypes: float64(4)\n",
      "memory usage: 6.4 KB\n"
     ]
    }
   ],
   "source": [
    "dataset.info()"
   ]
  },
  {
   "cell_type": "code",
   "execution_count": 7,
   "id": "f316906b",
   "metadata": {},
   "outputs": [
    {
     "data": {
      "text/html": [
       "<div>\n",
       "<style scoped>\n",
       "    .dataframe tbody tr th:only-of-type {\n",
       "        vertical-align: middle;\n",
       "    }\n",
       "\n",
       "    .dataframe tbody tr th {\n",
       "        vertical-align: top;\n",
       "    }\n",
       "\n",
       "    .dataframe thead th {\n",
       "        text-align: right;\n",
       "    }\n",
       "</style>\n",
       "<table border=\"1\" class=\"dataframe\">\n",
       "  <thead>\n",
       "    <tr style=\"text-align: right;\">\n",
       "      <th></th>\n",
       "      <th>TV</th>\n",
       "      <th>Radio</th>\n",
       "      <th>Newspaper</th>\n",
       "      <th>Sales</th>\n",
       "    </tr>\n",
       "  </thead>\n",
       "  <tbody>\n",
       "    <tr>\n",
       "      <th>count</th>\n",
       "      <td>200.000000</td>\n",
       "      <td>200.000000</td>\n",
       "      <td>200.000000</td>\n",
       "      <td>200.000000</td>\n",
       "    </tr>\n",
       "    <tr>\n",
       "      <th>mean</th>\n",
       "      <td>147.042500</td>\n",
       "      <td>23.264000</td>\n",
       "      <td>30.554000</td>\n",
       "      <td>15.130500</td>\n",
       "    </tr>\n",
       "    <tr>\n",
       "      <th>std</th>\n",
       "      <td>85.854236</td>\n",
       "      <td>14.846809</td>\n",
       "      <td>21.778621</td>\n",
       "      <td>5.283892</td>\n",
       "    </tr>\n",
       "    <tr>\n",
       "      <th>min</th>\n",
       "      <td>0.700000</td>\n",
       "      <td>0.000000</td>\n",
       "      <td>0.300000</td>\n",
       "      <td>1.600000</td>\n",
       "    </tr>\n",
       "    <tr>\n",
       "      <th>25%</th>\n",
       "      <td>74.375000</td>\n",
       "      <td>9.975000</td>\n",
       "      <td>12.750000</td>\n",
       "      <td>11.000000</td>\n",
       "    </tr>\n",
       "    <tr>\n",
       "      <th>50%</th>\n",
       "      <td>149.750000</td>\n",
       "      <td>22.900000</td>\n",
       "      <td>25.750000</td>\n",
       "      <td>16.000000</td>\n",
       "    </tr>\n",
       "    <tr>\n",
       "      <th>75%</th>\n",
       "      <td>218.825000</td>\n",
       "      <td>36.525000</td>\n",
       "      <td>45.100000</td>\n",
       "      <td>19.050000</td>\n",
       "    </tr>\n",
       "    <tr>\n",
       "      <th>max</th>\n",
       "      <td>296.400000</td>\n",
       "      <td>49.600000</td>\n",
       "      <td>114.000000</td>\n",
       "      <td>27.000000</td>\n",
       "    </tr>\n",
       "  </tbody>\n",
       "</table>\n",
       "</div>"
      ],
      "text/plain": [
       "               TV       Radio   Newspaper       Sales\n",
       "count  200.000000  200.000000  200.000000  200.000000\n",
       "mean   147.042500   23.264000   30.554000   15.130500\n",
       "std     85.854236   14.846809   21.778621    5.283892\n",
       "min      0.700000    0.000000    0.300000    1.600000\n",
       "25%     74.375000    9.975000   12.750000   11.000000\n",
       "50%    149.750000   22.900000   25.750000   16.000000\n",
       "75%    218.825000   36.525000   45.100000   19.050000\n",
       "max    296.400000   49.600000  114.000000   27.000000"
      ]
     },
     "execution_count": 7,
     "metadata": {},
     "output_type": "execute_result"
    }
   ],
   "source": [
    "dataset.describe()"
   ]
  },
  {
   "cell_type": "markdown",
   "id": "712cd89c",
   "metadata": {},
   "source": [
    "## Data Cleaning"
   ]
  },
  {
   "cell_type": "code",
   "execution_count": 10,
   "id": "18b9d6fb",
   "metadata": {},
   "outputs": [
    {
     "data": {
      "text/plain": [
       "TV           False\n",
       "Radio        False\n",
       "Newspaper    False\n",
       "Sales        False\n",
       "dtype: bool"
      ]
     },
     "execution_count": 10,
     "metadata": {},
     "output_type": "execute_result"
    }
   ],
   "source": [
    "# Check for null values\n",
    "dataset.isna().any()"
   ]
  },
  {
   "cell_type": "markdown",
   "id": "c937eedb",
   "metadata": {},
   "source": [
    "Thus the dataset has no null entries"
   ]
  },
  {
   "cell_type": "code",
   "execution_count": 14,
   "id": "e42c453f",
   "metadata": {},
   "outputs": [
    {
     "data": {
      "image/png": "[encoded data removed]",
      "text/plain": [
       "<Figure size 360x360 with 3 Axes>"
      ]
     },
     "metadata": {
      "needs_background": "light"
     },
     "output_type": "display_data"
    }
   ],
   "source": [
    "# Check for outliers\n",
    "fig, ax = plt.subplots(3, figsize=(5, 5))\n",
    "plt1 = sns.boxplot(data=dataset['TV'], ax=ax[0], orient='h')\n",
    "plt2 = sns.boxplot(data=dataset['Radio'], ax=ax[1], orient='h')\n",
    "plt3 = sns.boxplot(data=dataset['Newspaper'], ax=ax[2], orient='h')"
   ]
  },
  {
   "cell_type": "markdown",
   "id": "cbdc9c1e",
   "metadata": {},
   "source": [
    "So there are not any significant outliers in the dataset.\n",
    "\n",
    "## Data visualisation"
   ]
  },
  {
   "cell_type": "code",
   "execution_count": 20,
   "id": "4ec34389",
   "metadata": {},
   "outputs": [
    {
     "data": {
      "image/png": "[encoded data removed]",
      "text/plain": [
       "<Figure size 432x288 with 1 Axes>"
      ]
     },
     "metadata": {
      "needs_background": "light"
     },
     "output_type": "display_data"
    }
   ],
   "source": [
    "sns.boxplot(data=dataset['Sales'], orient='h')\n",
    "plt.show()"
   ]
  },
  {
   "cell_type": "code",
   "execution_count": 23,
   "id": "c3a5f7bb",
   "metadata": {},
   "outputs": [
    {
     "data": {
      "image/png": "[encoded data removed]",
      "text/plain": [
       "<Figure size 864x288 with 3 Axes>"
      ]
     },
     "metadata": {
      "needs_background": "light"
     },
     "output_type": "display_data"
    }
   ],
   "source": [
    "sns.pairplot(data=dataset, x_vars=['TV', 'Radio', 'Newspaper'], y_vars='Sales', height=4, kind='scatter')\n",
    "plt.show()"
   ]
  },
  {
   "cell_type": "code",
   "execution_count": 25,
   "id": "1f65265d",
   "metadata": {},
   "outputs": [
    {
     "data": {
      "image/png": "[encoded data removed]",
      "text/plain": [
       "<Figure size 432x288 with 2 Axes>"
      ]
     },
     "metadata": {
      "needs_background": "light"
     },
     "output_type": "display_data"
    }
   ],
   "source": [
    "# Find correlation between different variables\n",
    "sns.heatmap(data=dataset.corr(), annot=True)\n",
    "plt.show()"
   ]
  },
  {
   "cell_type": "markdown",
   "id": "f4fc7da1",
   "metadata": {},
   "source": [
    "As is visible from the pairplot and the heatmap, the variable TV seems to be most correlated with Sales. So TV can serve as a good feature for simple linear regression.\n",
    "\n",
    "## Data pre-processing"
   ]
  },
  {
   "cell_type": "code",
   "execution_count": 30,
   "id": "5c117c28",
   "metadata": {},
   "outputs": [
    {
     "name": "stdout",
     "output_type": "stream",
     "text": [
      "(200, 3)\n",
      "(200,)\n"
     ]
    }
   ],
   "source": [
    "X = dataset.iloc[:, :-1].values\n",
    "y = dataset.iloc[:, -1].values\n",
    "\n",
    "print(X.shape)\n",
    "print(y.shape)"
   ]
  },
  {
   "cell_type": "code",
   "execution_count": 31,
   "id": "83d29fa2",
   "metadata": {},
   "outputs": [],
   "source": [
    "# Split into train and test set\n",
    "from sklearn.model_selection import train_test_split\n",
    "\n",
    "X_train, X_test, y_train, y_test = train_test_split(X, y, test_size=0.2)"
   ]
  },
  {
   "cell_type": "code",
   "execution_count": 119,
   "id": "77c2e147",
   "metadata": {},
   "outputs": [
    {
     "name": "stdout",
     "output_type": "stream",
     "text": [
      "(160, 3)\n",
      "(40, 3)\n",
      "(160,)\n",
      "(40,)\n"
     ]
    }
   ],
   "source": [
    "print(X_train.shape)\n",
    "print(X_test.shape)\n",
    "print(y_train.shape)\n",
    "print(y_test.shape)"
   ]
  },
  {
   "cell_type": "markdown",
   "id": "48e2234a",
   "metadata": {},
   "source": [
    "## Model Training\n",
    "\n",
    "### Linear Regression"
   ]
  },
  {
   "cell_type": "code",
   "execution_count": 200,
   "id": "f57edb68",
   "metadata": {},
   "outputs": [
    {
     "data": {
      "text/plain": [
       "LinearRegression()"
      ]
     },
     "execution_count": 200,
     "metadata": {},
     "output_type": "execute_result"
    }
   ],
   "source": [
    "from sklearn.linear_model import LinearRegression\n",
    "\n",
    "lr = LinearRegression()\n",
    "lr.fit(X_train[:, 0].reshape(-1, 1), y_train)"
   ]
  },
  {
   "cell_type": "code",
   "execution_count": 201,
   "id": "06c2df00",
   "metadata": {},
   "outputs": [
    {
     "name": "stdout",
     "output_type": "stream",
     "text": [
      "[0.054538]\n",
      "7.04765769764691\n"
     ]
    }
   ],
   "source": [
    "print(lr.coef_)\n",
    "print(lr.intercept_)"
   ]
  },
  {
   "cell_type": "code",
   "execution_count": 202,
   "id": "1474f44e",
   "metadata": {},
   "outputs": [],
   "source": [
    "# Evaluate model performance\n",
    "y_pred = lr.predict(X_test[:, 0].reshape(-1, 1))"
   ]
  },
  {
   "cell_type": "code",
   "execution_count": 203,
   "id": "3224bac8",
   "metadata": {},
   "outputs": [
    {
     "name": "stdout",
     "output_type": "stream",
     "text": [
      "Actual value = 11.3, Predicted value = 10.82\n"
     ]
    }
   ],
   "source": [
    "idx = 15\n",
    "print(f'Actual value = {y_test[idx]}, Predicted value = {y_pred[idx]:.2f}')"
   ]
  },
  {
   "cell_type": "code",
   "execution_count": 204,
   "id": "d6c8350e",
   "metadata": {},
   "outputs": [
    {
     "name": "stdout",
     "output_type": "stream",
     "text": [
      "RMSE Training data = 2.2699395580651056\n",
      "RMSE Test data = 2.3515602424402635\n"
     ]
    }
   ],
   "source": [
    "from sklearn.metrics import mean_squared_error\n",
    "\n",
    "rmse_train = mean_squared_error(y_true=y_train, y_pred=lr.predict(X_train[:, 0].reshape(-1, 1)), squared=False)\n",
    "rmse_test_lr = mean_squared_error(y_true=y_test, y_pred=y_pred, squared=False)\n",
    "\n",
    "print(f'RMSE Training data = {rmse_train}')\n",
    "print(f'RMSE Test data = {rmse_test_lr}')"
   ]
  },
  {
   "cell_type": "code",
   "execution_count": 205,
   "id": "248577ec",
   "metadata": {},
   "outputs": [
    {
     "name": "stdout",
     "output_type": "stream",
     "text": [
      "R^2 score for train set = 0.8086430366702264\n",
      "R^2 score for test set = 0.8205195772323056\n"
     ]
    }
   ],
   "source": [
    "r2_lr = lr.score(X_test[:, 0].reshape(-1, 1), y_test)\n",
    "print(f'R^2 score for train set = {lr.score(X_train[:, 0].reshape(-1, 1), y_train)}')\n",
    "print(f'R^2 score for test set = {r2_lr}')"
   ]
  },
  {
   "cell_type": "markdown",
   "id": "f8689d8e",
   "metadata": {},
   "source": [
    "#### Visualise the predictions on test"
   ]
  },
  {
   "cell_type": "code",
   "execution_count": 206,
   "id": "f7aae881",
   "metadata": {},
   "outputs": [
    {
     "data": {
      "image/png": "[encoded data removed]",
      "text/plain": [
       "<Figure size 432x288 with 1 Axes>"
      ]
     },
     "metadata": {
      "needs_background": "light"
     },
     "output_type": "display_data"
    }
   ],
   "source": [
    "plt.scatter(X_test[:, 0].reshape(-1, 1), y_test, color='red')\n",
    "plt.plot(X_train[:, 0].reshape(-1, 1), lr.predict(X_train[:, 0].reshape(-1, 1)), color='blue')\n",
    "plt.title('Expenditure on TV ads vs Sales')\n",
    "plt.xlabel('Expenditure on TV ads')\n",
    "plt.ylabel('Sales')\n",
    "plt.show()"
   ]
  },
  {
   "cell_type": "markdown",
   "id": "dd8d2226",
   "metadata": {},
   "source": [
    "### Support Vector Regression"
   ]
  },
  {
   "cell_type": "code",
   "execution_count": 207,
   "id": "36490efe",
   "metadata": {},
   "outputs": [
    {
     "data": {
      "text/plain": [
       "SVR()"
      ]
     },
     "execution_count": 207,
     "metadata": {},
     "output_type": "execute_result"
    }
   ],
   "source": [
    "from sklearn.svm import SVR\n",
    "\n",
    "svr = SVR(kernel='rbf')\n",
    "svr.fit(X_train, y_train)"
   ]
  },
  {
   "cell_type": "code",
   "execution_count": 208,
   "id": "3f6521a9",
   "metadata": {},
   "outputs": [],
   "source": [
    "# Evaluate model performance\n",
    "y_pred = svr.predict(X_test)"
   ]
  },
  {
   "cell_type": "code",
   "execution_count": 209,
   "id": "5b0cdcfa",
   "metadata": {},
   "outputs": [
    {
     "name": "stdout",
     "output_type": "stream",
     "text": [
      "Actual value = 11.8, Predicted value = 10.62\n"
     ]
    }
   ],
   "source": [
    "idx = 20\n",
    "print(f'Actual value = {y_test[idx]}, Predicted value = {y_pred[idx]:.2f}')"
   ]
  },
  {
   "cell_type": "code",
   "execution_count": 210,
   "id": "5c38fb02",
   "metadata": {},
   "outputs": [
    {
     "name": "stdout",
     "output_type": "stream",
     "text": [
      "RMSE Training data = 2.2699395580651056\n",
      "RMSE Test data = 2.1208242660237304\n"
     ]
    }
   ],
   "source": [
    "rmse_train = mean_squared_error(y_true=y_train, y_pred=lr.predict(X_train[:, 0].reshape(-1, 1)), squared=False)\n",
    "rmse_test_svr = mean_squared_error(y_true=y_test, y_pred=y_pred, squared=False)\n",
    "\n",
    "print(f'RMSE Training data = {rmse_train}')\n",
    "print(f'RMSE Test data = {rmse_test_svr}')"
   ]
  },
  {
   "cell_type": "code",
   "execution_count": 211,
   "id": "edb8d810",
   "metadata": {},
   "outputs": [
    {
     "name": "stdout",
     "output_type": "stream",
     "text": [
      "R^2 score for train set = 0.883723044578126\n",
      "R^2 score for test set = 0.8540129833489196\n"
     ]
    }
   ],
   "source": [
    "r2_svr = svr.score(X_test, y_test)\n",
    "print(f'R^2 score for train set = {svr.score(X_train, y_train)}')\n",
    "print(f'R^2 score for test set = {r2_svr}')"
   ]
  },
  {
   "cell_type": "markdown",
   "id": "33b82b8b",
   "metadata": {},
   "source": [
    "### Decision Tree Regression"
   ]
  },
  {
   "cell_type": "code",
   "execution_count": 212,
   "id": "d7959a24",
   "metadata": {},
   "outputs": [
    {
     "data": {
      "text/plain": [
       "DecisionTreeRegressor()"
      ]
     },
     "execution_count": 212,
     "metadata": {},
     "output_type": "execute_result"
    }
   ],
   "source": [
    "from sklearn.tree import DecisionTreeRegressor\n",
    "\n",
    "dtr = DecisionTreeRegressor()\n",
    "dtr.fit(X_train, y_train)"
   ]
  },
  {
   "cell_type": "code",
   "execution_count": 213,
   "id": "2e22b7c8",
   "metadata": {},
   "outputs": [],
   "source": [
    "# Evaluate model performance\n",
    "y_pred = dtr.predict(X_test)"
   ]
  },
  {
   "cell_type": "code",
   "execution_count": 214,
   "id": "914ef9b4",
   "metadata": {},
   "outputs": [
    {
     "name": "stdout",
     "output_type": "stream",
     "text": [
      "Actual value = 11.3, Predicted value = 10.90\n"
     ]
    }
   ],
   "source": [
    "idx = 15\n",
    "print(f'Actual value = {y_test[idx]}, Predicted value = {y_pred[idx]:.2f}')"
   ]
  },
  {
   "cell_type": "code",
   "execution_count": 215,
   "id": "600e841b",
   "metadata": {},
   "outputs": [
    {
     "name": "stdout",
     "output_type": "stream",
     "text": [
      "RMSE Training data = 2.2699395580651056\n",
      "RMSE Test data = 1.598436736314578\n"
     ]
    }
   ],
   "source": [
    "rmse_train = mean_squared_error(y_true=y_train, y_pred=lr.predict(X_train[:, 0].reshape(-1, 1)), squared=False)\n",
    "rmse_test_dtr = mean_squared_error(y_true=y_test, y_pred=y_pred, squared=False)\n",
    "\n",
    "print(f'RMSE Training data = {rmse_train}')\n",
    "print(f'RMSE Test data = {rmse_test_dtr}')"
   ]
  },
  {
   "cell_type": "code",
   "execution_count": 216,
   "id": "5f0d6ad2",
   "metadata": {},
   "outputs": [
    {
     "name": "stdout",
     "output_type": "stream",
     "text": [
      "R^2 score for train set = 1.0\n",
      "R^2 score for test set = 0.9170730351654554\n"
     ]
    }
   ],
   "source": [
    "r2_dtr = dtr.score(X_test, y_test)\n",
    "print(f'R^2 score for train set = {dtr.score(X_train, y_train)}')\n",
    "print(f'R^2 score for test set = {r2_dtr}')"
   ]
  },
  {
   "cell_type": "markdown",
   "id": "373e5753",
   "metadata": {},
   "source": [
    "### Random Forest Regression"
   ]
  },
  {
   "cell_type": "code",
   "execution_count": 217,
   "id": "1352fc94",
   "metadata": {},
   "outputs": [
    {
     "data": {
      "text/plain": [
       "RandomForestRegressor(n_estimators=30)"
      ]
     },
     "execution_count": 217,
     "metadata": {},
     "output_type": "execute_result"
    }
   ],
   "source": [
    "from sklearn.ensemble import RandomForestRegressor\n",
    "\n",
    "rfr = RandomForestRegressor(n_estimators=30)\n",
    "rfr.fit(X_train, y_train)"
   ]
  },
  {
   "cell_type": "code",
   "execution_count": 218,
   "id": "a049e477",
   "metadata": {},
   "outputs": [],
   "source": [
    "# Evaluate model performance\n",
    "y_pred = rfr.predict(X_test)"
   ]
  },
  {
   "cell_type": "code",
   "execution_count": 219,
   "id": "3dd03810",
   "metadata": {},
   "outputs": [
    {
     "name": "stdout",
     "output_type": "stream",
     "text": [
      "Actual value = 15.5, Predicted value = 13.54\n"
     ]
    }
   ],
   "source": [
    "idx = 22\n",
    "print(f'Actual value = {y_test[idx]}, Predicted value = {y_pred[idx]:.2f}')"
   ]
  },
  {
   "cell_type": "code",
   "execution_count": 220,
   "id": "e6b44bdf",
   "metadata": {},
   "outputs": [
    {
     "name": "stdout",
     "output_type": "stream",
     "text": [
      "RMSE Training data = 2.2699395580651056\n",
      "RMSE Test data = 1.42881730423763\n"
     ]
    }
   ],
   "source": [
    "rmse_train = mean_squared_error(y_true=y_train, y_pred=lr.predict(X_train[:, 0].reshape(-1, 1)), squared=False)\n",
    "rmse_test_rfr = mean_squared_error(y_true=y_test, y_pred=y_pred, squared=False)\n",
    "\n",
    "print(f'RMSE Training data = {rmse_train}')\n",
    "print(f'RMSE Test data = {rmse_test_rfr}')"
   ]
  },
  {
   "cell_type": "code",
   "execution_count": 221,
   "id": "2144d56c",
   "metadata": {},
   "outputs": [
    {
     "name": "stdout",
     "output_type": "stream",
     "text": [
      "R^2 score for train set = 0.9917600109066375\n",
      "R^2 score for test set = 0.9337389569049129\n"
     ]
    }
   ],
   "source": [
    "r2_rfr = rfr.score(X_test, y_test)\n",
    "print(f'R^2 score for train set = {rfr.score(X_train, y_train)}')\n",
    "print(f'R^2 score for test set = {r2_rfr}')"
   ]
  },
  {
   "cell_type": "markdown",
   "id": "d3806489",
   "metadata": {},
   "source": [
    "### KNN Regression"
   ]
  },
  {
   "cell_type": "code",
   "execution_count": 222,
   "id": "2eae1bea",
   "metadata": {},
   "outputs": [
    {
     "data": {
      "text/plain": [
       "KNeighborsRegressor(n_neighbors=2)"
      ]
     },
     "execution_count": 222,
     "metadata": {},
     "output_type": "execute_result"
    }
   ],
   "source": [
    "from sklearn.neighbors import KNeighborsRegressor\n",
    "\n",
    "knr = KNeighborsRegressor(n_neighbors=2, metric='minkowski')\n",
    "knr.fit(X_train, y_train)"
   ]
  },
  {
   "cell_type": "code",
   "execution_count": 223,
   "id": "852a5ee6",
   "metadata": {},
   "outputs": [],
   "source": [
    "# Evaluate model performance\n",
    "y_pred = knr.predict(X_test)"
   ]
  },
  {
   "cell_type": "code",
   "execution_count": 224,
   "id": "477f7eed",
   "metadata": {},
   "outputs": [
    {
     "name": "stdout",
     "output_type": "stream",
     "text": [
      "Actual value = 11.3, Predicted value = 11.35\n"
     ]
    }
   ],
   "source": [
    "idx = 15\n",
    "print(f'Actual value = {y_test[idx]}, Predicted value = {y_pred[idx]:.2f}')"
   ]
  },
  {
   "cell_type": "code",
   "execution_count": 225,
   "id": "d5982787",
   "metadata": {},
   "outputs": [
    {
     "name": "stdout",
     "output_type": "stream",
     "text": [
      "RMSE Training data = 2.2699395580651056\n",
      "RMSE Test data = 1.5122623780283628\n"
     ]
    }
   ],
   "source": [
    "rmse_train = mean_squared_error(y_true=y_train, y_pred=lr.predict(X_train[:, 0].reshape(-1, 1)), squared=False)\n",
    "rmse_test_knr = mean_squared_error(y_true=y_test, y_pred=y_pred, squared=False)\n",
    "\n",
    "print(f'RMSE Training data = {rmse_train}')\n",
    "print(f'RMSE Test data = {rmse_test_knr}')"
   ]
  },
  {
   "cell_type": "code",
   "execution_count": 226,
   "id": "e1fde638",
   "metadata": {},
   "outputs": [
    {
     "name": "stdout",
     "output_type": "stream",
     "text": [
      "R^2 score for train set = 0.9917600109066375\n",
      "R^2 score for test set = 0.9257734694163203\n"
     ]
    }
   ],
   "source": [
    "r2_knr = knr.score(X_test, y_test)\n",
    "print(f'R^2 score for train set = {rfr.score(X_train, y_train)}')\n",
    "print(f'R^2 score for test set = {r2_knr}')"
   ]
  },
  {
   "cell_type": "markdown",
   "id": "3ab90f68",
   "metadata": {},
   "source": [
    "## Conclusion"
   ]
  },
  {
   "cell_type": "code",
   "execution_count": 227,
   "id": "025406d6",
   "metadata": {},
   "outputs": [
    {
     "data": {
      "text/html": [
       "<div>\n",
       "<style scoped>\n",
       "    .dataframe tbody tr th:only-of-type {\n",
       "        vertical-align: middle;\n",
       "    }\n",
       "\n",
       "    .dataframe tbody tr th {\n",
       "        vertical-align: top;\n",
       "    }\n",
       "\n",
       "    .dataframe thead th {\n",
       "        text-align: right;\n",
       "    }\n",
       "</style>\n",
       "<table border=\"1\" class=\"dataframe\">\n",
       "  <thead>\n",
       "    <tr style=\"text-align: right;\">\n",
       "      <th></th>\n",
       "      <th>Model</th>\n",
       "      <th>Errors</th>\n",
       "    </tr>\n",
       "  </thead>\n",
       "  <tbody>\n",
       "    <tr>\n",
       "      <th>0</th>\n",
       "      <td>LR</td>\n",
       "      <td>2.351560</td>\n",
       "    </tr>\n",
       "    <tr>\n",
       "      <th>1</th>\n",
       "      <td>SVR</td>\n",
       "      <td>2.120824</td>\n",
       "    </tr>\n",
       "    <tr>\n",
       "      <th>2</th>\n",
       "      <td>DT</td>\n",
       "      <td>1.598437</td>\n",
       "    </tr>\n",
       "    <tr>\n",
       "      <th>3</th>\n",
       "      <td>RF</td>\n",
       "      <td>1.428817</td>\n",
       "    </tr>\n",
       "    <tr>\n",
       "      <th>4</th>\n",
       "      <td>KNN</td>\n",
       "      <td>1.512262</td>\n",
       "    </tr>\n",
       "  </tbody>\n",
       "</table>\n",
       "</div>"
      ],
      "text/plain": [
       "  Model    Errors\n",
       "0    LR  2.351560\n",
       "1   SVR  2.120824\n",
       "2    DT  1.598437\n",
       "3    RF  1.428817\n",
       "4   KNN  1.512262"
      ]
     },
     "execution_count": 227,
     "metadata": {},
     "output_type": "execute_result"
    }
   ],
   "source": [
    "mse = pd.DataFrame({ 'Model': ['LR', 'SVR', 'DT', 'RF', 'KNN'], 'Errors': [rmse_test_lr, rmse_test_svr, rmse_test_dtr, rmse_test_rfr, rmse_test_knr] })\n",
    "mse"
   ]
  },
  {
   "cell_type": "code",
   "execution_count": 228,
   "id": "cd9be91d",
   "metadata": {},
   "outputs": [
    {
     "data": {
      "image/png": "[encoded data removed]",
      "text/plain": [
       "<Figure size 432x288 with 1 Axes>"
      ]
     },
     "metadata": {
      "needs_background": "light"
     },
     "output_type": "display_data"
    }
   ],
   "source": [
    "sns.barplot(x='Model', y='Errors', data=mse)\n",
    "plt.show()"
   ]
  },
  {
   "cell_type": "code",
   "execution_count": 229,
   "id": "41574413",
   "metadata": {},
   "outputs": [
    {
     "data": {
      "text/html": [
       "<div>\n",
       "<style scoped>\n",
       "    .dataframe tbody tr th:only-of-type {\n",
       "        vertical-align: middle;\n",
       "    }\n",
       "\n",
       "    .dataframe tbody tr th {\n",
       "        vertical-align: top;\n",
       "    }\n",
       "\n",
       "    .dataframe thead th {\n",
       "        text-align: right;\n",
       "    }\n",
       "</style>\n",
       "<table border=\"1\" class=\"dataframe\">\n",
       "  <thead>\n",
       "    <tr style=\"text-align: right;\">\n",
       "      <th></th>\n",
       "      <th>Model</th>\n",
       "      <th>Score</th>\n",
       "    </tr>\n",
       "  </thead>\n",
       "  <tbody>\n",
       "    <tr>\n",
       "      <th>0</th>\n",
       "      <td>LR</td>\n",
       "      <td>0.820520</td>\n",
       "    </tr>\n",
       "    <tr>\n",
       "      <th>1</th>\n",
       "      <td>SVR</td>\n",
       "      <td>0.854013</td>\n",
       "    </tr>\n",
       "    <tr>\n",
       "      <th>2</th>\n",
       "      <td>DT</td>\n",
       "      <td>0.917073</td>\n",
       "    </tr>\n",
       "    <tr>\n",
       "      <th>3</th>\n",
       "      <td>RF</td>\n",
       "      <td>0.933739</td>\n",
       "    </tr>\n",
       "    <tr>\n",
       "      <th>4</th>\n",
       "      <td>KNN</td>\n",
       "      <td>0.925773</td>\n",
       "    </tr>\n",
       "  </tbody>\n",
       "</table>\n",
       "</div>"
      ],
      "text/plain": [
       "  Model     Score\n",
       "0    LR  0.820520\n",
       "1   SVR  0.854013\n",
       "2    DT  0.917073\n",
       "3    RF  0.933739\n",
       "4   KNN  0.925773"
      ]
     },
     "execution_count": 229,
     "metadata": {},
     "output_type": "execute_result"
    }
   ],
   "source": [
    "r2 = pd.DataFrame({ 'Model': ['LR', 'SVR', 'DT', 'RF', 'KNN'], 'Score': [r2_lr, r2_svr, r2_dtr, r2_rfr, r2_knr] })\n",
    "r2"
   ]
  },
  {
   "cell_type": "code",
   "execution_count": 230,
   "id": "a65ca7ff",
   "metadata": {
    "scrolled": true
   },
   "outputs": [
    {
     "data": {
      "image/png": "[encoded data removed]",
      "text/plain": [
       "<Figure size 432x288 with 1 Axes>"
      ]
     },
     "metadata": {
      "needs_background": "light"
     },
     "output_type": "display_data"
    }
   ],
   "source": [
    "sns.barplot(x='Model', y='Score', data=r2)\n",
    "plt.show()"
   ]
  },
  {
   "cell_type": "markdown",
   "id": "42068863",
   "metadata": {},
   "source": [
    "Thus, Random Forest regression gives the best prediction, followed by KNN."
   ]
  }
 ],
 "metadata": {
  "kernelspec": {
   "display_name": "Python 3",
   "language": "python",
   "name": "python3"
  },
  "language_info": {
   "codemirror_mode": {
    "name": "ipython",
    "version": 3
   },
   "file_extension": ".py",
   "mimetype": "text/x-python",
   "name": "python",
   "nbconvert_exporter": "python",
   "pygments_lexer": "ipython3",
   "version": "3.8.8"
  }
 },
 "nbformat": 4,
 "nbformat_minor": 5
}
