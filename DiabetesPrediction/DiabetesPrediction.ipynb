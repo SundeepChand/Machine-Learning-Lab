{
 "cells": [
  {
   "cell_type": "markdown",
   "id": "c9bdc357",
   "metadata": {},
   "source": [
    "# Predictive Analysis of Type 2 Diabetes Using ML Model.\n",
    "### (K-Nearest Neighbor(KNN) Classifier, Random Forest Classifier (RFC), Logistic Regression (LR))"
   ]
  },
  {
   "cell_type": "code",
   "execution_count": 125,
   "id": "cf9698a1",
   "metadata": {},
   "outputs": [],
   "source": [
    "import numpy as np\n",
    "import pandas as pd\n",
    "import matplotlib.pyplot as plt\n",
    "import seaborn as sns\n",
    "%matplotlib inline"
   ]
  },
  {
   "cell_type": "code",
   "execution_count": 126,
   "id": "5b40d5c6",
   "metadata": {},
   "outputs": [
    {
     "name": "stdout",
     "output_type": "stream",
     "text": [
      "(768, 9)\n"
     ]
    },
    {
     "data": {
      "text/html": [
       "<div>\n",
       "<style scoped>\n",
       "    .dataframe tbody tr th:only-of-type {\n",
       "        vertical-align: middle;\n",
       "    }\n",
       "\n",
       "    .dataframe tbody tr th {\n",
       "        vertical-align: top;\n",
       "    }\n",
       "\n",
       "    .dataframe thead th {\n",
       "        text-align: right;\n",
       "    }\n",
       "</style>\n",
       "<table border=\"1\" class=\"dataframe\">\n",
       "  <thead>\n",
       "    <tr style=\"text-align: right;\">\n",
       "      <th></th>\n",
       "      <th>Pregnancies</th>\n",
       "      <th>Glucose</th>\n",
       "      <th>BloodPressure</th>\n",
       "      <th>SkinThickness</th>\n",
       "      <th>Insulin</th>\n",
       "      <th>BMI</th>\n",
       "      <th>DiabetesPedigreeFunction</th>\n",
       "      <th>Age</th>\n",
       "      <th>Outcome</th>\n",
       "    </tr>\n",
       "  </thead>\n",
       "  <tbody>\n",
       "    <tr>\n",
       "      <th>0</th>\n",
       "      <td>6</td>\n",
       "      <td>148</td>\n",
       "      <td>72</td>\n",
       "      <td>35</td>\n",
       "      <td>0</td>\n",
       "      <td>33.6</td>\n",
       "      <td>0.627</td>\n",
       "      <td>50</td>\n",
       "      <td>1</td>\n",
       "    </tr>\n",
       "    <tr>\n",
       "      <th>1</th>\n",
       "      <td>1</td>\n",
       "      <td>85</td>\n",
       "      <td>66</td>\n",
       "      <td>29</td>\n",
       "      <td>0</td>\n",
       "      <td>26.6</td>\n",
       "      <td>0.351</td>\n",
       "      <td>31</td>\n",
       "      <td>0</td>\n",
       "    </tr>\n",
       "    <tr>\n",
       "      <th>2</th>\n",
       "      <td>8</td>\n",
       "      <td>183</td>\n",
       "      <td>64</td>\n",
       "      <td>0</td>\n",
       "      <td>0</td>\n",
       "      <td>23.3</td>\n",
       "      <td>0.672</td>\n",
       "      <td>32</td>\n",
       "      <td>1</td>\n",
       "    </tr>\n",
       "    <tr>\n",
       "      <th>3</th>\n",
       "      <td>1</td>\n",
       "      <td>89</td>\n",
       "      <td>66</td>\n",
       "      <td>23</td>\n",
       "      <td>94</td>\n",
       "      <td>28.1</td>\n",
       "      <td>0.167</td>\n",
       "      <td>21</td>\n",
       "      <td>0</td>\n",
       "    </tr>\n",
       "    <tr>\n",
       "      <th>4</th>\n",
       "      <td>0</td>\n",
       "      <td>137</td>\n",
       "      <td>40</td>\n",
       "      <td>35</td>\n",
       "      <td>168</td>\n",
       "      <td>43.1</td>\n",
       "      <td>2.288</td>\n",
       "      <td>33</td>\n",
       "      <td>1</td>\n",
       "    </tr>\n",
       "  </tbody>\n",
       "</table>\n",
       "</div>"
      ],
      "text/plain": [
       "   Pregnancies  Glucose  BloodPressure  SkinThickness  Insulin   BMI  \\\n",
       "0            6      148             72             35        0  33.6   \n",
       "1            1       85             66             29        0  26.6   \n",
       "2            8      183             64              0        0  23.3   \n",
       "3            1       89             66             23       94  28.1   \n",
       "4            0      137             40             35      168  43.1   \n",
       "\n",
       "   DiabetesPedigreeFunction  Age  Outcome  \n",
       "0                     0.627   50        1  \n",
       "1                     0.351   31        0  \n",
       "2                     0.672   32        1  \n",
       "3                     0.167   21        0  \n",
       "4                     2.288   33        1  "
      ]
     },
     "execution_count": 126,
     "metadata": {},
     "output_type": "execute_result"
    }
   ],
   "source": [
    "# Import the dataset\n",
    "dataset = pd.read_csv('dataset/diabetes.csv')\n",
    "print(dataset.shape)\n",
    "dataset.head()"
   ]
  },
  {
   "cell_type": "markdown",
   "id": "5d51003e",
   "metadata": {},
   "source": [
    "## Perform data visualisation and pre-processing"
   ]
  },
  {
   "cell_type": "code",
   "execution_count": 127,
   "id": "31a9c1bf",
   "metadata": {
    "scrolled": true
   },
   "outputs": [
    {
     "name": "stdout",
     "output_type": "stream",
     "text": [
      "<class 'pandas.core.frame.DataFrame'>\n",
      "RangeIndex: 768 entries, 0 to 767\n",
      "Data columns (total 9 columns):\n",
      " #   Column                    Non-Null Count  Dtype  \n",
      "---  ------                    --------------  -----  \n",
      " 0   Pregnancies               768 non-null    int64  \n",
      " 1   Glucose                   768 non-null    int64  \n",
      " 2   BloodPressure             768 non-null    int64  \n",
      " 3   SkinThickness             768 non-null    int64  \n",
      " 4   Insulin                   768 non-null    int64  \n",
      " 5   BMI                       768 non-null    float64\n",
      " 6   DiabetesPedigreeFunction  768 non-null    float64\n",
      " 7   Age                       768 non-null    int64  \n",
      " 8   Outcome                   768 non-null    int64  \n",
      "dtypes: float64(2), int64(7)\n",
      "memory usage: 54.1 KB\n"
     ]
    }
   ],
   "source": [
    "dataset.info()"
   ]
  },
  {
   "cell_type": "code",
   "execution_count": 128,
   "id": "ae687654",
   "metadata": {},
   "outputs": [
    {
     "data": {
      "text/html": [
       "<div>\n",
       "<style scoped>\n",
       "    .dataframe tbody tr th:only-of-type {\n",
       "        vertical-align: middle;\n",
       "    }\n",
       "\n",
       "    .dataframe tbody tr th {\n",
       "        vertical-align: top;\n",
       "    }\n",
       "\n",
       "    .dataframe thead th {\n",
       "        text-align: right;\n",
       "    }\n",
       "</style>\n",
       "<table border=\"1\" class=\"dataframe\">\n",
       "  <thead>\n",
       "    <tr style=\"text-align: right;\">\n",
       "      <th></th>\n",
       "      <th>Pregnancies</th>\n",
       "      <th>Glucose</th>\n",
       "      <th>BloodPressure</th>\n",
       "      <th>SkinThickness</th>\n",
       "      <th>Insulin</th>\n",
       "      <th>BMI</th>\n",
       "      <th>DiabetesPedigreeFunction</th>\n",
       "      <th>Age</th>\n",
       "      <th>Outcome</th>\n",
       "    </tr>\n",
       "  </thead>\n",
       "  <tbody>\n",
       "    <tr>\n",
       "      <th>count</th>\n",
       "      <td>768.000000</td>\n",
       "      <td>768.000000</td>\n",
       "      <td>768.000000</td>\n",
       "      <td>768.000000</td>\n",
       "      <td>768.000000</td>\n",
       "      <td>768.000000</td>\n",
       "      <td>768.000000</td>\n",
       "      <td>768.000000</td>\n",
       "      <td>768.000000</td>\n",
       "    </tr>\n",
       "    <tr>\n",
       "      <th>mean</th>\n",
       "      <td>3.845052</td>\n",
       "      <td>120.894531</td>\n",
       "      <td>69.105469</td>\n",
       "      <td>20.536458</td>\n",
       "      <td>79.799479</td>\n",
       "      <td>31.992578</td>\n",
       "      <td>0.471876</td>\n",
       "      <td>33.240885</td>\n",
       "      <td>0.348958</td>\n",
       "    </tr>\n",
       "    <tr>\n",
       "      <th>std</th>\n",
       "      <td>3.369578</td>\n",
       "      <td>31.972618</td>\n",
       "      <td>19.355807</td>\n",
       "      <td>15.952218</td>\n",
       "      <td>115.244002</td>\n",
       "      <td>7.884160</td>\n",
       "      <td>0.331329</td>\n",
       "      <td>11.760232</td>\n",
       "      <td>0.476951</td>\n",
       "    </tr>\n",
       "    <tr>\n",
       "      <th>min</th>\n",
       "      <td>0.000000</td>\n",
       "      <td>0.000000</td>\n",
       "      <td>0.000000</td>\n",
       "      <td>0.000000</td>\n",
       "      <td>0.000000</td>\n",
       "      <td>0.000000</td>\n",
       "      <td>0.078000</td>\n",
       "      <td>21.000000</td>\n",
       "      <td>0.000000</td>\n",
       "    </tr>\n",
       "    <tr>\n",
       "      <th>25%</th>\n",
       "      <td>1.000000</td>\n",
       "      <td>99.000000</td>\n",
       "      <td>62.000000</td>\n",
       "      <td>0.000000</td>\n",
       "      <td>0.000000</td>\n",
       "      <td>27.300000</td>\n",
       "      <td>0.243750</td>\n",
       "      <td>24.000000</td>\n",
       "      <td>0.000000</td>\n",
       "    </tr>\n",
       "    <tr>\n",
       "      <th>50%</th>\n",
       "      <td>3.000000</td>\n",
       "      <td>117.000000</td>\n",
       "      <td>72.000000</td>\n",
       "      <td>23.000000</td>\n",
       "      <td>30.500000</td>\n",
       "      <td>32.000000</td>\n",
       "      <td>0.372500</td>\n",
       "      <td>29.000000</td>\n",
       "      <td>0.000000</td>\n",
       "    </tr>\n",
       "    <tr>\n",
       "      <th>75%</th>\n",
       "      <td>6.000000</td>\n",
       "      <td>140.250000</td>\n",
       "      <td>80.000000</td>\n",
       "      <td>32.000000</td>\n",
       "      <td>127.250000</td>\n",
       "      <td>36.600000</td>\n",
       "      <td>0.626250</td>\n",
       "      <td>41.000000</td>\n",
       "      <td>1.000000</td>\n",
       "    </tr>\n",
       "    <tr>\n",
       "      <th>max</th>\n",
       "      <td>17.000000</td>\n",
       "      <td>199.000000</td>\n",
       "      <td>122.000000</td>\n",
       "      <td>99.000000</td>\n",
       "      <td>846.000000</td>\n",
       "      <td>67.100000</td>\n",
       "      <td>2.420000</td>\n",
       "      <td>81.000000</td>\n",
       "      <td>1.000000</td>\n",
       "    </tr>\n",
       "  </tbody>\n",
       "</table>\n",
       "</div>"
      ],
      "text/plain": [
       "       Pregnancies     Glucose  BloodPressure  SkinThickness     Insulin  \\\n",
       "count   768.000000  768.000000     768.000000     768.000000  768.000000   \n",
       "mean      3.845052  120.894531      69.105469      20.536458   79.799479   \n",
       "std       3.369578   31.972618      19.355807      15.952218  115.244002   \n",
       "min       0.000000    0.000000       0.000000       0.000000    0.000000   \n",
       "25%       1.000000   99.000000      62.000000       0.000000    0.000000   \n",
       "50%       3.000000  117.000000      72.000000      23.000000   30.500000   \n",
       "75%       6.000000  140.250000      80.000000      32.000000  127.250000   \n",
       "max      17.000000  199.000000     122.000000      99.000000  846.000000   \n",
       "\n",
       "              BMI  DiabetesPedigreeFunction         Age     Outcome  \n",
       "count  768.000000                768.000000  768.000000  768.000000  \n",
       "mean    31.992578                  0.471876   33.240885    0.348958  \n",
       "std      7.884160                  0.331329   11.760232    0.476951  \n",
       "min      0.000000                  0.078000   21.000000    0.000000  \n",
       "25%     27.300000                  0.243750   24.000000    0.000000  \n",
       "50%     32.000000                  0.372500   29.000000    0.000000  \n",
       "75%     36.600000                  0.626250   41.000000    1.000000  \n",
       "max     67.100000                  2.420000   81.000000    1.000000  "
      ]
     },
     "execution_count": 128,
     "metadata": {},
     "output_type": "execute_result"
    }
   ],
   "source": [
    "dataset.describe()"
   ]
  },
  {
   "cell_type": "code",
   "execution_count": 129,
   "id": "17b9e1ca",
   "metadata": {
    "scrolled": true
   },
   "outputs": [
    {
     "data": {
      "text/plain": [
       "Pregnancies                 False\n",
       "Glucose                     False\n",
       "BloodPressure               False\n",
       "SkinThickness               False\n",
       "Insulin                     False\n",
       "BMI                         False\n",
       "DiabetesPedigreeFunction    False\n",
       "Age                         False\n",
       "Outcome                     False\n",
       "dtype: bool"
      ]
     },
     "execution_count": 129,
     "metadata": {},
     "output_type": "execute_result"
    }
   ],
   "source": [
    "dataset.isna().any()"
   ]
  },
  {
   "cell_type": "code",
   "execution_count": 130,
   "id": "804f7dcf",
   "metadata": {},
   "outputs": [
    {
     "data": {
      "text/plain": [
       "<AxesSubplot:>"
      ]
     },
     "execution_count": 130,
     "metadata": {},
     "output_type": "execute_result"
    },
    {
     "data": {
      "image/png": "[encoded data removed]",
      "text/plain": [
       "<Figure size 936x432 with 1 Axes>"
      ]
     },
     "metadata": {
      "needs_background": "light"
     },
     "output_type": "display_data"
    }
   ],
   "source": [
    "fig, ax = plt.subplots(figsize=(13, 6))\n",
    "sns.boxplot(ax=ax, data=dataset)"
   ]
  },
  {
   "cell_type": "markdown",
   "id": "d33f35d4",
   "metadata": {},
   "source": [
    "## Handling outliers\n",
    "\n",
    "As can be seen, there are some outliers existing in the dataset, in the 'Insulin' & 'SkinThickness' columns. Outliers represent inaccuracies during data collection. Hence, they can affect the model accuracy. So we remove them in the following step."
   ]
  },
  {
   "cell_type": "code",
   "execution_count": 131,
   "id": "a3f1e3e9",
   "metadata": {},
   "outputs": [
    {
     "name": "stdout",
     "output_type": "stream",
     "text": [
      "99th percentile of Insulin value = 519.9000000000012\n",
      "99th percentile of SkinThickness value = 51.33000000000004\n"
     ]
    },
    {
     "data": {
      "text/plain": [
       "<AxesSubplot:>"
      ]
     },
     "execution_count": 131,
     "metadata": {},
     "output_type": "execute_result"
    },
    {
     "data": {
      "image/png": "[encoded data removed]",
      "text/plain": [
       "<Figure size 936x432 with 1 Axes>"
      ]
     },
     "metadata": {
      "needs_background": "light"
     },
     "output_type": "display_data"
    }
   ],
   "source": [
    "q_insulin = dataset['Insulin'].quantile(0.99)\n",
    "q_skin = dataset['SkinThickness'].quantile(0.99)\n",
    "print(f'99th percentile of Insulin value = {q_insulin}')\n",
    "print(f'99th percentile of SkinThickness value = {q_skin}')\n",
    "\n",
    "dataset = dataset[(dataset['Insulin'] < q_insulin) & (dataset['SkinThickness'] < q_skin)]\n",
    "\n",
    "fig, ax = plt.subplots(figsize=(13, 6))\n",
    "sns.boxplot(ax=ax, data=dataset)"
   ]
  },
  {
   "cell_type": "markdown",
   "id": "80fb2484",
   "metadata": {},
   "source": [
    "## Handling missing values\n",
    "\n",
    "It would be a serious medical problem if a patient had an insulin level and skin thickness measurement of zero. As such, we can conclude that this dataset uses the number zero to represent missing or null data. Here we can see that as many as half of the rows contain columns with missing data.\n",
    "\n",
    "The number of pregnancies can be zero. But other features with missing values negatively affect our model’s performance. Therefore, we replace missing values in each attribute with the respective attribute’s mean."
   ]
  },
  {
   "cell_type": "code",
   "execution_count": 132,
   "id": "cd9b08bf",
   "metadata": {},
   "outputs": [
    {
     "name": "stdout",
     "output_type": "stream",
     "text": [
      "# of Rows, # of Columns:  (752, 8)\n",
      "\n",
      "Column Name           # of Null Values\n",
      "\n",
      "Pregnancies                 106\n",
      "Glucose                       5\n",
      "BloodPressure                35\n",
      "SkinThickness               227\n",
      "Insulin                     371\n",
      "BMI                          11\n",
      "DiabetesPedigreeFunction      0\n",
      "Age                           0\n",
      "dtype: int64\n"
     ]
    }
   ],
   "source": [
    "# Find missing values\n",
    "dataset2 = dataset.iloc[:, :-1]\n",
    "print(\"# of Rows, # of Columns: \",dataset2.shape)\n",
    "print(\"\\nColumn Name           # of Null Values\\n\")\n",
    "print((dataset2[:] == 0).sum())"
   ]
  },
  {
   "cell_type": "code",
   "execution_count": 133,
   "id": "2720a21a",
   "metadata": {},
   "outputs": [
    {
     "name": "stdout",
     "output_type": "stream",
     "text": [
      "# of Rows, # of Columns:  (752, 8)\n",
      "\n",
      "Column Name           # of Null Values\n",
      "\n",
      "Pregnancies                 106\n",
      "Glucose                       0\n",
      "BloodPressure                 0\n",
      "SkinThickness                 0\n",
      "Insulin                       0\n",
      "BMI                           0\n",
      "DiabetesPedigreeFunction      0\n",
      "Age                           0\n",
      "dtype: int64\n"
     ]
    }
   ],
   "source": [
    "# Replace 0's with the means\n",
    "missing_cols = ['Glucose', 'BloodPressure', 'SkinThickness', 'Insulin', 'BMI']\n",
    "\n",
    "for col in missing_cols:\n",
    "    dataset[col] = dataset[col].replace(0, dataset[col].mean())\n",
    "    \n",
    "dataset2 = dataset.iloc[:, :-1]\n",
    "print(\"# of Rows, # of Columns: \",dataset2.shape)\n",
    "print(\"\\nColumn Name           # of Null Values\\n\")\n",
    "print((dataset2[:] == 0).sum())"
   ]
  },
  {
   "cell_type": "markdown",
   "id": "c6c0fb0c",
   "metadata": {},
   "source": [
    "### Splitting dataset into training and test sets"
   ]
  },
  {
   "cell_type": "code",
   "execution_count": 134,
   "id": "eb5274ab",
   "metadata": {},
   "outputs": [
    {
     "name": "stdout",
     "output_type": "stream",
     "text": [
      "(752, 8)\n",
      "(752,)\n"
     ]
    }
   ],
   "source": [
    "X = dataset.iloc[:, :-1].values\n",
    "y = dataset.iloc[:, -1].values\n",
    "print(X.shape)\n",
    "print(y.shape)"
   ]
  },
  {
   "cell_type": "code",
   "execution_count": 135,
   "id": "ab20572b",
   "metadata": {},
   "outputs": [
    {
     "name": "stdout",
     "output_type": "stream",
     "text": [
      "(601, 8)\n",
      "(601,)\n",
      "(151, 8)\n",
      "(151,)\n"
     ]
    }
   ],
   "source": [
    "from sklearn.model_selection import train_test_split\n",
    "\n",
    "X_train, X_test, y_train, y_test = train_test_split(X, y, test_size=0.2)\n",
    "\n",
    "print(X_train.shape)\n",
    "print(y_train.shape)\n",
    "print(X_test.shape)\n",
    "print(y_test.shape)"
   ]
  },
  {
   "cell_type": "markdown",
   "id": "833b26ff",
   "metadata": {},
   "source": [
    "### Analyzing the relative number of 0's and 1's in outcomes"
   ]
  },
  {
   "cell_type": "code",
   "execution_count": 136,
   "id": "87f6ef1c",
   "metadata": {},
   "outputs": [
    {
     "name": "stdout",
     "output_type": "stream",
     "text": [
      "Counter({0: 386, 1: 215})\n"
     ]
    },
    {
     "data": {
      "text/plain": [
       "<BarContainer object of 2 artists>"
      ]
     },
     "execution_count": 136,
     "metadata": {},
     "output_type": "execute_result"
    },
    {
     "data": {
      "image/png": "[encoded data removed]",
      "text/plain": [
       "<Figure size 432x288 with 1 Axes>"
      ]
     },
     "metadata": {
      "needs_background": "light"
     },
     "output_type": "display_data"
    }
   ],
   "source": [
    "from collections import Counter\n",
    "counter = Counter(y_train)\n",
    "print(counter)\n",
    "\n",
    "plt.bar(['0', '1'], [counter[0], counter[1]])"
   ]
  },
  {
   "cell_type": "markdown",
   "id": "85548a09",
   "metadata": {},
   "source": [
    "As can be seen in the above plot, the number of 0's and 1's is imbalanced. Training on this dataset will make our model better in predicting the cases in which a patient does not have diabetes, but we want our model to be accurate in predicting cases in which a patient has diabetes.\n",
    "\n",
    "So, we use SMOTE (Synthetic Minority Oversampling Technique) to balance our data-set. SMOTE is a statistical technique used for increasing the number of instances in the dataset in a uniform way. This technique generates new instances from the existing minority instances."
   ]
  },
  {
   "cell_type": "code",
   "execution_count": 137,
   "id": "4f6e8e5a",
   "metadata": {},
   "outputs": [
    {
     "name": "stdout",
     "output_type": "stream",
     "text": [
      "Counter({0: 386, 1: 386})\n"
     ]
    }
   ],
   "source": [
    "from imblearn.over_sampling import SMOTE\n",
    "\n",
    "smt = SMOTE()\n",
    "\n",
    "X_train_sm, y_train_sm = smt.fit_resample(X_train, y_train)\n",
    "\n",
    "print(Counter(y_train_sm))"
   ]
  },
  {
   "cell_type": "markdown",
   "id": "4666b19c",
   "metadata": {},
   "source": [
    "### Feature scaling"
   ]
  },
  {
   "cell_type": "code",
   "execution_count": 138,
   "id": "a8f0bf95",
   "metadata": {},
   "outputs": [],
   "source": [
    "from sklearn.preprocessing import StandardScaler\n",
    "\n",
    "sc = StandardScaler()\n",
    "X_train_sm = sc.fit_transform(X_train_sm)\n",
    "X_train_scaled = sc.fit_transform(X_train)"
   ]
  },
  {
   "cell_type": "markdown",
   "id": "619221bf",
   "metadata": {},
   "source": [
    "## Training the model"
   ]
  },
  {
   "cell_type": "markdown",
   "id": "d4bd9b3f",
   "metadata": {},
   "source": [
    "### Logistic Regression"
   ]
  },
  {
   "cell_type": "code",
   "execution_count": 165,
   "id": "9fe460d4",
   "metadata": {},
   "outputs": [
    {
     "data": {
      "text/plain": [
       "LogisticRegression()"
      ]
     },
     "execution_count": 165,
     "metadata": {},
     "output_type": "execute_result"
    }
   ],
   "source": [
    "from sklearn.linear_model import LogisticRegression\n",
    "lrc = LogisticRegression()\n",
    "lrc.fit(X_train_sm, y_train_sm)"
   ]
  },
  {
   "cell_type": "markdown",
   "id": "6639299c",
   "metadata": {},
   "source": [
    "#### Predicting on test set and evaluating model performance"
   ]
  },
  {
   "cell_type": "code",
   "execution_count": 166,
   "id": "a6e245cb",
   "metadata": {},
   "outputs": [
    {
     "name": "stdout",
     "output_type": "stream",
     "text": [
      "[1 0 1 0 1 1 0 0 0 0 0 0 0 0 0 0 0 0 0 0 0 1 1 0 0 1 1 0 0 1 0 1 0 1 0 0 1\n",
      " 0 1 1 0 1 0 0 1 0 0 1 1 1 1 0 1 0 1 1 0 0 0 1 0 0 1 0 0 1 1 0 1 1 1 0 1 1\n",
      " 0 0 0 0 1 1 0 0 1 1 0 0 0 0 0 0 1 1 1 0 0 1 0 1 0 0 0 0 0 1 1 0 0 1 1 1 0\n",
      " 0 1 0 0 1 0 0 1 1 0 1 1 0 0 1 1 0 0 1 1 0 0 1 0 1 1 0 1 1 0 1 1 1 0 1 0 0\n",
      " 1 1 0]\n",
      "[0 0 0 0 1 1 0 0 0 0 0 0 1 0 0 0 0 0 0 1 1 0 0 0 0 1 1 0 0 1 0 1 0 1 0 0 1\n",
      " 0 1 1 0 0 0 0 0 0 0 0 1 1 0 0 0 0 1 0 0 0 0 1 0 0 1 0 0 0 1 0 0 1 0 0 1 0\n",
      " 0 0 0 0 0 1 0 0 1 0 0 0 0 1 0 1 1 1 0 0 0 0 0 0 0 0 0 0 1 0 1 0 1 0 1 0 0\n",
      " 0 1 0 0 0 1 0 0 1 0 1 1 1 0 1 1 0 0 0 1 0 0 1 0 0 1 0 0 0 0 1 0 0 0 0 0 0\n",
      " 1 1 0]\n"
     ]
    }
   ],
   "source": [
    "y_pred = lrc.predict(sc.transform(X_test))\n",
    "print(y_pred)\n",
    "print(y_test)"
   ]
  },
  {
   "cell_type": "code",
   "execution_count": 167,
   "id": "1032adea",
   "metadata": {},
   "outputs": [],
   "source": [
    "from sklearn.metrics import confusion_matrix, accuracy_score, precision_score, recall_score, f1_score"
   ]
  },
  {
   "cell_type": "code",
   "execution_count": 168,
   "id": "9f49aa83",
   "metadata": {},
   "outputs": [
    {
     "name": "stdout",
     "output_type": "stream",
     "text": [
      "[[75 31]\n",
      " [ 9 36]]\n",
      "Accuracy score in Logistic Regression = 0.7350993377483444\n",
      "Precision score in Logistic Regression = 0.5373134328358209\n",
      "Recall score in Logistic Regression = 0.8\n",
      "F1-score in Logistic Regression = 0.6428571428571428\n"
     ]
    }
   ],
   "source": [
    "# Print confusion matrix\n",
    "cm = confusion_matrix(y_test, y_pred)\n",
    "print(cm)\n",
    "lrc_accuracy = accuracy_score(y_test, y_pred)\n",
    "\n",
    "print(f'Accuracy score in Logistic Regression = {lrc_accuracy}')\n",
    "print(f'Precision score in Logistic Regression = {precision_score(y_test, y_pred)}')\n",
    "print(f'Recall score in Logistic Regression = {recall_score(y_test, y_pred)}')\n",
    "print(f'F1-score in Logistic Regression = {f1_score(y_test, y_pred)}')"
   ]
  },
  {
   "cell_type": "markdown",
   "id": "73da6811",
   "metadata": {},
   "source": [
    "### K-Nearest Neighbor Classifier"
   ]
  },
  {
   "cell_type": "code",
   "execution_count": 169,
   "id": "ff1b62df",
   "metadata": {},
   "outputs": [
    {
     "data": {
      "text/plain": [
       "KNeighborsClassifier()"
      ]
     },
     "execution_count": 169,
     "metadata": {},
     "output_type": "execute_result"
    }
   ],
   "source": [
    "from sklearn.neighbors import KNeighborsClassifier\n",
    "\n",
    "knn = KNeighborsClassifier(n_neighbors=5)\n",
    "knn.fit(X_train_scaled, y_train)"
   ]
  },
  {
   "cell_type": "markdown",
   "id": "933e778e",
   "metadata": {},
   "source": [
    "#### Predicting on test set and evaluating model performance"
   ]
  },
  {
   "cell_type": "code",
   "execution_count": 170,
   "id": "4a843ec5",
   "metadata": {},
   "outputs": [
    {
     "name": "stdout",
     "output_type": "stream",
     "text": [
      "[1 0 1 0 0 0 0 0 0 0 0 0 1 0 0 0 0 0 0 0 0 0 0 0 0 1 1 0 0 0 0 1 0 1 0 0 1\n",
      " 0 1 1 0 0 0 0 0 0 0 0 1 1 1 0 1 0 1 0 0 0 0 1 0 0 0 0 0 1 1 0 0 1 0 0 1 1\n",
      " 0 0 0 0 0 1 0 1 0 0 1 0 0 0 0 0 1 1 0 0 0 0 0 1 0 0 0 0 0 0 1 0 0 0 1 1 0\n",
      " 0 1 0 0 1 1 0 1 1 0 1 0 1 0 1 0 0 0 1 1 0 0 0 0 1 1 0 1 1 0 1 0 1 0 0 0 0\n",
      " 1 1 0]\n",
      "[0 0 0 0 1 1 0 0 0 0 0 0 1 0 0 0 0 0 0 1 1 0 0 0 0 1 1 0 0 1 0 1 0 1 0 0 1\n",
      " 0 1 1 0 0 0 0 0 0 0 0 1 1 0 0 0 0 1 0 0 0 0 1 0 0 1 0 0 0 1 0 0 1 0 0 1 0\n",
      " 0 0 0 0 0 1 0 0 1 0 0 0 0 1 0 1 1 1 0 0 0 0 0 0 0 0 0 0 1 0 1 0 1 0 1 0 0\n",
      " 0 1 0 0 0 1 0 0 1 0 1 1 1 0 1 1 0 0 0 1 0 0 1 0 0 1 0 0 0 0 1 0 0 0 0 0 0\n",
      " 1 1 0]\n"
     ]
    }
   ],
   "source": [
    "y_pred = knn.predict(sc.transform(X_test))\n",
    "print(y_pred)\n",
    "print(y_test)"
   ]
  },
  {
   "cell_type": "code",
   "execution_count": 171,
   "id": "7354a3de",
   "metadata": {},
   "outputs": [
    {
     "name": "stdout",
     "output_type": "stream",
     "text": [
      "[[89 17]\n",
      " [14 31]]\n",
      "Accuracy score in K-Nearest Neighbor Classifier = 0.7947019867549668\n",
      "Precision score in K-Nearest Neighbor Classifier = 0.6458333333333334\n",
      "Recall score in K-Nearest Neighbor Classifier = 0.6888888888888889\n",
      "F1-score in K-Nearest Neighbor Classifier = 0.6666666666666667\n"
     ]
    }
   ],
   "source": [
    "cm = confusion_matrix(y_test, y_pred)\n",
    "print(cm)\n",
    "knn_accuracy = accuracy_score(y_test, y_pred)\n",
    "\n",
    "print(f'Accuracy score in K-Nearest Neighbor Classifier = {knn_accuracy}')\n",
    "print(f'Precision score in K-Nearest Neighbor Classifier = {precision_score(y_test, y_pred)}')\n",
    "print(f'Recall score in K-Nearest Neighbor Classifier = {recall_score(y_test, y_pred)}')\n",
    "print(f'F1-score in K-Nearest Neighbor Classifier = {f1_score(y_test, y_pred)}')"
   ]
  },
  {
   "cell_type": "markdown",
   "id": "1091c53d",
   "metadata": {},
   "source": [
    "### Random Forest Classifier"
   ]
  },
  {
   "cell_type": "code",
   "execution_count": 172,
   "id": "205483b5",
   "metadata": {},
   "outputs": [
    {
     "data": {
      "text/plain": [
       "RandomForestClassifier()"
      ]
     },
     "execution_count": 172,
     "metadata": {},
     "output_type": "execute_result"
    }
   ],
   "source": [
    "from sklearn.ensemble import RandomForestClassifier\n",
    "rfc = RandomForestClassifier()\n",
    "rfc.fit(X_train_sm, y_train_sm)"
   ]
  },
  {
   "cell_type": "markdown",
   "id": "b13a021c",
   "metadata": {},
   "source": [
    "#### Predicting on test set and evaluating model performance"
   ]
  },
  {
   "cell_type": "code",
   "execution_count": 173,
   "id": "e4eff288",
   "metadata": {},
   "outputs": [
    {
     "name": "stdout",
     "output_type": "stream",
     "text": [
      "[0 0 1 0 1 1 0 0 0 0 0 0 1 0 0 0 0 0 0 1 1 1 0 0 0 1 1 0 0 1 0 1 0 1 0 0 1\n",
      " 0 1 1 0 1 0 0 0 0 0 1 1 1 1 0 1 0 1 1 0 0 0 1 0 0 1 0 0 1 1 0 1 1 1 0 1 1\n",
      " 0 0 0 0 0 1 0 1 1 0 0 0 0 1 1 1 1 1 1 0 0 1 0 1 0 0 0 0 0 0 1 0 0 1 1 1 0\n",
      " 0 1 0 0 1 1 0 1 1 0 1 1 1 0 1 1 0 0 1 1 0 0 1 0 1 1 0 1 0 0 1 0 1 0 0 1 0\n",
      " 1 1 0]\n",
      "[0 0 0 0 1 1 0 0 0 0 0 0 1 0 0 0 0 0 0 1 1 0 0 0 0 1 1 0 0 1 0 1 0 1 0 0 1\n",
      " 0 1 1 0 0 0 0 0 0 0 0 1 1 0 0 0 0 1 0 0 0 0 1 0 0 1 0 0 0 1 0 0 1 0 0 1 0\n",
      " 0 0 0 0 0 1 0 0 1 0 0 0 0 1 0 1 1 1 0 0 0 0 0 0 0 0 0 0 1 0 1 0 1 0 1 0 0\n",
      " 0 1 0 0 0 1 0 0 1 0 1 1 1 0 1 1 0 0 0 1 0 0 1 0 0 1 0 0 0 0 1 0 0 0 0 0 0\n",
      " 1 1 0]\n"
     ]
    }
   ],
   "source": [
    "y_pred = rfc.predict(sc.transform(X_test))\n",
    "print(y_pred)\n",
    "print(y_test)"
   ]
  },
  {
   "cell_type": "code",
   "execution_count": 174,
   "id": "59388706",
   "metadata": {},
   "outputs": [
    {
     "name": "stdout",
     "output_type": "stream",
     "text": [
      "[[81 25]\n",
      " [ 2 43]]\n",
      "Accuracy score in Random Forest Classifier = 0.8211920529801324\n",
      "Precision score in Random Forest Classifier = 0.6323529411764706\n",
      "Recall score in Random Forest Classifier = 0.9555555555555556\n",
      "F1-score in Random Forest Classifier = 0.7610619469026547\n"
     ]
    }
   ],
   "source": [
    "cm = confusion_matrix(y_test, y_pred)\n",
    "print(cm)\n",
    "rfc_accuracy = accuracy_score(y_test, y_pred)\n",
    "\n",
    "print(f'Accuracy score in Random Forest Classifier = {rfc_accuracy}')\n",
    "print(f'Precision score in Random Forest Classifier = {precision_score(y_test, y_pred)}')\n",
    "print(f'Recall score in Random Forest Classifier = {recall_score(y_test, y_pred)}')\n",
    "print(f'F1-score in Random Forest Classifier = {f1_score(y_test, y_pred)}')"
   ]
  },
  {
   "cell_type": "markdown",
   "id": "55092d74",
   "metadata": {},
   "source": [
    "## Conclusion"
   ]
  },
  {
   "cell_type": "code",
   "execution_count": 175,
   "id": "b2e3742e",
   "metadata": {},
   "outputs": [
    {
     "data": {
      "text/html": [
       "<div>\n",
       "<style scoped>\n",
       "    .dataframe tbody tr th:only-of-type {\n",
       "        vertical-align: middle;\n",
       "    }\n",
       "\n",
       "    .dataframe tbody tr th {\n",
       "        vertical-align: top;\n",
       "    }\n",
       "\n",
       "    .dataframe thead th {\n",
       "        text-align: right;\n",
       "    }\n",
       "</style>\n",
       "<table border=\"1\" class=\"dataframe\">\n",
       "  <thead>\n",
       "    <tr style=\"text-align: right;\">\n",
       "      <th></th>\n",
       "      <th>Model</th>\n",
       "      <th>Score</th>\n",
       "    </tr>\n",
       "  </thead>\n",
       "  <tbody>\n",
       "    <tr>\n",
       "      <th>0</th>\n",
       "      <td>LR</td>\n",
       "      <td>0.735099</td>\n",
       "    </tr>\n",
       "    <tr>\n",
       "      <th>1</th>\n",
       "      <td>KNN</td>\n",
       "      <td>0.794702</td>\n",
       "    </tr>\n",
       "    <tr>\n",
       "      <th>2</th>\n",
       "      <td>RFC</td>\n",
       "      <td>0.821192</td>\n",
       "    </tr>\n",
       "  </tbody>\n",
       "</table>\n",
       "</div>"
      ],
      "text/plain": [
       "  Model     Score\n",
       "0    LR  0.735099\n",
       "1   KNN  0.794702\n",
       "2   RFC  0.821192"
      ]
     },
     "execution_count": 175,
     "metadata": {},
     "output_type": "execute_result"
    }
   ],
   "source": [
    "scores = pd.DataFrame({ 'Model': ['LR', 'KNN', 'RFC'], 'Score': [lrc_accuracy, knn_accuracy, rfc_accuracy] })\n",
    "scores"
   ]
  },
  {
   "cell_type": "code",
   "execution_count": 176,
   "id": "2f4cebe6",
   "metadata": {},
   "outputs": [
    {
     "data": {
      "text/plain": [
       "<AxesSubplot:xlabel='Model', ylabel='Score'>"
      ]
     },
     "execution_count": 176,
     "metadata": {},
     "output_type": "execute_result"
    },
    {
     "data": {
      "image/png": "[encoded data removed]",
      "text/plain": [
       "<Figure size 432x288 with 1 Axes>"
      ]
     },
     "metadata": {
      "needs_background": "light"
     },
     "output_type": "display_data"
    }
   ],
   "source": [
    "sns.barplot(x='Model', y='Score', data=scores)"
   ]
  },
  {
   "cell_type": "markdown",
   "id": "7baeb263",
   "metadata": {},
   "source": [
    "As can be seen above, Random Forest Classifier has outperformed Logistic Regression as well as K-Nearest Neigbors Classification, because of higher accuracy, precision and recall scores."
   ]
  },
  {
   "cell_type": "code",
   "execution_count": null,
   "id": "575e27c0",
   "metadata": {},
   "outputs": [],
   "source": []
  }
 ],
 "metadata": {
  "kernelspec": {
   "display_name": "Python 3",
   "language": "python",
   "name": "python3"
  },
  "language_info": {
   "codemirror_mode": {
    "name": "ipython",
    "version": 3
   },
   "file_extension": ".py",
   "mimetype": "text/x-python",
   "name": "python",
   "nbconvert_exporter": "python",
   "pygments_lexer": "ipython3",
   "version": "3.8.8"
  }
 },
 "nbformat": 4,
 "nbformat_minor": 5
}
